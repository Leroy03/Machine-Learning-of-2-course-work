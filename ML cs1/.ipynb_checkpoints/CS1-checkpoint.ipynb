{
 "cells": [
  {
   "cell_type": "code",
   "execution_count": 1,
   "metadata": {},
   "outputs": [],
   "source": [
    "import csv\n",
    "import numpy as np\n",
    "from matplotlib import pyplot as plt\n",
    "from sklearn.feature_selection import SelectKBest,chi2\n",
    "from sklearn.model_selection import cross_val_score,train_test_split\n",
    "from sklearn import svm\n",
    "from sklearn.metrics import confusion_matrix\n",
    "from sklearn.neighbors import KNeighborsClassifier\n",
    "from sklearn.preprocessing import binarize \n",
    "from sklearn.metrics import r2_score, mean_squared_error\n"
   ]
  },
  {
   "cell_type": "code",
   "execution_count": 2,
   "metadata": {},
   "outputs": [],
   "source": [
    "# load data\n",
    "# rows in X are subject major order, i.e. rows 0-9 are all samples from subject 0, rows 10-19 all samples from subject 1, etc.\n",
    "# columns in X are in feature_type major order, i.e. columns 0-47 are alpha band power, eyes closed, electrodes 0-48\n",
    "# feature identifiers for all columns in X are stored in feature_names.csv\n",
    "\n",
    "X = np.loadtxt('data.csv', delimiter=',') \n",
    "y = np.loadtxt('labels.csv', delimiter=',')\n",
    "with open('feature_names.csv') as f:\n",
    "    csvreader = csv.reader(f, delimiter=',')\n",
    "    feature_names = [row for row in csvreader][0]"
   ]
  },
  {
   "cell_type": "code",
   "execution_count": 3,
   "metadata": {},
   "outputs": [],
   "source": [
    "def calculate(pred, test):\n",
    "    r2 = r2_score(test, pred) \n",
    "    mse = mean_squared_error(test, pred) \n",
    "    print('R2: ', r2) \n",
    "    print('MSE: ', mse)\n",
    "\n",
    "    tn, fp, fn, tp = confusion_matrix(test, pred).ravel()\n",
    "    print(confusion_matrix(test, pred))\n",
    "    print(f\"Accuracy: { (tp+tn)/(tp+fp+fn+tn)}\")\n",
    "    print(f\"Specificity: {tn/(tn + fp)}\")\n",
    "    print(f\"Sensitivity: {tp/(tp + fn)}\")\n",
    "    return [r2,mse,(tp+tn)/(tp+fp+fn+tn),tn/(tn + fp),tp/(tp + fn)]"
   ]
  },
  {
   "cell_type": "code",
   "execution_count": 4,
   "metadata": {
    "scrolled": true
   },
   "outputs": [
    {
     "name": "stdout",
     "output_type": "stream",
     "text": [
      "R2:  -0.23749999999999938\n",
      "MSE:  0.3055555555555556\n",
      "[[12  4]\n",
      " [ 7 13]]\n",
      "Accuracy: 0.6944444444444444\n",
      "Specificity: 0.75\n",
      "Sensitivity: 0.65\n"
     ]
    }
   ],
   "source": [
    "# Original\n",
    "clf=svm.SVC(kernel='rbf',C=1,gamma='auto',probability=True) # classfier call svm\n",
    "train_X,test_X,train_y,test_y = train_test_split(X,y,test_size=0.2,random_state=0) # separate data to train data and test data\n",
    "clf.fit(train_X,train_y)\n",
    "calculate(clf.predict(test_X),test_y)\n",
    "sc =  cross_val_score(clf,train_X,train_y,cv=10,scoring='accuracy').mean()    # Highest accuracy  "
   ]
  },
  {
   "cell_type": "code",
   "execution_count": 5,
   "metadata": {},
   "outputs": [
    {
     "name": "stdout",
     "output_type": "stream",
     "text": [
      "accuracy = 0.8814285714285713\n",
      "sensitivity = 0.7166666666666667\n",
      "Sensitivity = 1.0\n"
     ]
    }
   ],
   "source": [
    "# aggregation \n",
    "agg_feature = np.copy(X)\n",
    "aggre_data = np.array([])\n",
    "for i in range(9):\n",
    "    aggre_data = np.hstack([aggre_data,np.mean(agg_feature[:,i*48:(i+1)*48],axis=1)])\n",
    "aggre_data = aggre_data.reshape(180,9)\n",
    "\n",
    "aggre_num = []\n",
    "\n",
    "clf=svm.SVC(kernel='rbf',C=1,gamma='auto',probability=True) # classfier call svm\n",
    "train_X,test_X,train_y,test_y = train_test_split(aggre_data,y,test_size=0.2,random_state=0) # separate data to train data and test data\n",
    "scores = cross_val_score(clf,train_X,train_y,cv=10,scoring='accuracy')  # Calculate the accuracy by cross vaildation \n",
    "print(f\"accuracy = {scores.mean()}\")\n",
    "print(f\"sensitivity = {cross_val_score(clf,train_X,train_y,cv=10,scoring='recall').mean()}\")\n",
    "print(f\"Sensitivity = {cross_val_score(clf,train_X,train_y,cv=10,scoring='precision').mean()}\")\n",
    "\n",
    "\n",
    "# calculate(clf.predict(test_X),test_y)"
   ]
  },
  {
   "cell_type": "code",
   "execution_count": 39,
   "metadata": {},
   "outputs": [
    {
     "name": "stdout",
     "output_type": "stream",
     "text": [
      "accuracy = 0.8814285714285713\n",
      "sensitivity = 0.7166666666666667\n",
      "Sensitivity = 1.0\n"
     ]
    },
    {
     "data": {
      "image/png": "[encoded data removed]",
      "text/plain": [
       "<Figure size 432x288 with 1 Axes>"
      ]
     },
     "metadata": {
      "needs_background": "light"
     },
     "output_type": "display_data"
    }
   ],
   "source": [
    "num = [] # the number of the accuracy of the wrapped(one feature each time) X\n",
    "clf=svm.SVC(kernel='rbf',C=1,gamma='auto',probability=True) # classfier call svm\n",
    "points = 0 # control the index \n",
    "x_copy = np.copy(aggre_data) # Donot modified raw data call X\n",
    "removed = [] # stored the removed feature name \n",
    "\n",
    "# Iterate all feature one by one \n",
    "for i in range(9):\n",
    "    f = np.hstack((x_copy[:,:points],x_copy[:,points+1:])) # elimate one feature \n",
    "    train_X,test_X,train_y,test_y = train_test_split(f,y,test_size=0.2,random_state=0) # separate data to train data and test data\n",
    "    scores = cross_val_score(clf,train_X,train_y,cv=10,scoring='accuracy')  # Calculate the accuracy by cross vaildation \n",
    "    num.append(scores.mean())    #  Get the average accuracy \n",
    "    \n",
    "    # Replace the highest accuracy and add the feature name which had been removed from the data\n",
    "    if sc <= scores.mean():\n",
    "        sc = scores.mean()\n",
    "        x_copy = np.delete(x_copy,slice(points,points+1),1)\n",
    "        removed.append(feature_names[i])\n",
    "    else:\n",
    "        points += 1\n",
    "plt.plot(num)\n",
    "plt.xlim(0,9)\n",
    "plt.xlabel(\"The feature's number being wrapper out\")\n",
    "clf.fit(train_X,train_y)\n",
    "# print(calculate(clf.predict(test_X),test_y))\n",
    "print(f\"accuracy = {cross_val_score(clf,train_X,train_y,cv=10,scoring='accuracy').mean()}\")\n",
    "print(f\"sensitivity = {cross_val_score(clf,train_X,train_y,cv=10,scoring='recall').mean()}\")\n",
    "print(f\"Sensitivity = {cross_val_score(clf,train_X,train_y,cv=10,scoring='precision').mean()}\")\n",
    "\n"
   ]
  },
  {
   "cell_type": "code",
   "execution_count": 6,
   "metadata": {},
   "outputs": [],
   "source": [
    "\"\"\"\n",
    "print out confusion martix and the wrap function\n",
    "\"\"\"\n",
    "\n",
    "\n",
    "num = [] # the number of the accuracy of the wrapped(one feature each time) X\n",
    "clf=svm.SVC(kernel='rbf',C=1,gamma='auto',probability=True) # classfier call svm\n",
    "points = 0 # control the index \n",
    "x_copy = np.copy(X) # Donot modified raw data call X\n",
    "removed = [] # stored the removed feature name \n",
    "\n",
    "# Iterate all feature one by one \n",
    "for i in range(9*48):\n",
    "    f = np.hstack((x_copy[:,:points],x_copy[:,points+1:])) # elimate one feature \n",
    "    train_X,test_X,train_y,test_y = train_test_split(f,y,test_size=0.2,random_state=0) # separate data to train data and test data\n",
    "    scores = cross_val_score(clf,train_X,train_y,cv=10,scoring='accuracy')  # Calculate the accuracy by cross vaildation \n",
    "    num.append(scores.mean())    #  Get the average accuracy \n",
    "    \n",
    "    # Replace the highest accuracy and add the feature name which had been removed from the data\n",
    "    if sc <= scores.mean():\n",
    "        sc = scores.mean()\n",
    "        x_copy = np.delete(x_copy,slice(points,points+1),1)\n",
    "        removed.append(feature_names[i])\n",
    "    else:\n",
    "        points += 1\n",
    "    \n",
    "\n",
    "\n",
    "\n",
    "# plt.plot(k_range,cv_scores)\n",
    "# plt.xlabel('K')\n",
    "# plt.ylabel('Accuracy')\n",
    "# plt.show()\n",
    "# cv_scores = np.array(cv_scores)\n",
    "# best_knn = KNeighborsClassifier(n_neighbors=np.where(cv_scores==max(cv_scores))[0][0]+1)\n",
    "# best_knn.fit(train_X,train_y)\n",
    "# print(best_knn.score(test_X,test_y))\n",
    "# calculate(best_knn.predict(test_X),test_y)\n",
    "\n"
   ]
  },
  {
   "cell_type": "code",
   "execution_count": 7,
   "metadata": {
    "scrolled": false
   },
   "outputs": [
    {
     "name": "stdout",
     "output_type": "stream",
     "text": [
      "accuracy = 0.7523809523809524\n",
      "sensitivity = 0.5833333333333334\n",
      "Sensitivity = 0.7611904761904762\n"
     ]
    },
    {
     "data": {
      "image/png": "[encoded data removed]",
      "text/plain": [
       "<Figure size 432x288 with 1 Axes>"
      ]
     },
     "metadata": {
      "needs_background": "light"
     },
     "output_type": "display_data"
    }
   ],
   "source": [
    "# plot the graph to show the prograss of accuracy \n",
    "\n",
    "plt.plot(num)\n",
    "plt.xlim(0,9*48)\n",
    "plt.xlabel(\"The feature's number being wrapper out\")\n",
    "clf.fit(train_X,train_y)\n",
    "# print(calculate(clf.predict(test_X),test_y))\n",
    "print(f\"accuracy = {cross_val_score(clf,train_X,train_y,cv=10,scoring='accuracy').mean()}\")\n",
    "print(f\"sensitivity = {cross_val_score(clf,train_X,train_y,cv=10,scoring='recall').mean()}\")\n",
    "print(f\"Sensitivity = {cross_val_score(clf,train_X,train_y,cv=10,scoring='precision').mean()}\")\n",
    "\n",
    "\n",
    "wrapper = [train_X,train_y,test_X,test_y]"
   ]
  },
  {
   "cell_type": "code",
   "execution_count": 8,
   "metadata": {
    "scrolled": true
   },
   "outputs": [
    {
     "data": {
      "text/plain": [
       "<BarContainer object of 45 artists>"
      ]
     },
     "execution_count": 8,
     "metadata": {},
     "output_type": "execute_result"
    },
    {
     "data": {
      "image/png": "[encoded data removed]",
      "text/plain": [
       "<Figure size 1080x720 with 1 Axes>"
      ]
     },
     "metadata": {
      "needs_background": "light"
     },
     "output_type": "display_data"
    }
   ],
   "source": [
    "import re\n",
    "from collections import Counter\n",
    "ex_number = []\n",
    "ex_feature = []\n",
    "for i in removed:\n",
    "    ex_number.append(re.search(r'\\d?\\d',i).group())\n",
    "    ex_feature.append(re.search(r'[a-z]+',i).group())\n",
    "    \n",
    "\n",
    "result_num = Counter(ex_number)\n",
    "result_feature = Counter(ex_feature)\n",
    "plt.figure(figsize=(15,10))\n",
    "plt.bar(result_num.keys(),result_num.values())"
   ]
  },
  {
   "cell_type": "code",
   "execution_count": 9,
   "metadata": {},
   "outputs": [
    {
     "data": {
      "text/plain": [
       "<BarContainer object of 3 artists>"
      ]
     },
     "execution_count": 9,
     "metadata": {},
     "output_type": "execute_result"
    },
    {
     "data": {
      "image/png": "[encoded data removed]",
      "text/plain": [
       "<Figure size 432x288 with 1 Axes>"
      ]
     },
     "metadata": {
      "needs_background": "light"
     },
     "output_type": "display_data"
    }
   ],
   "source": [
    "plt.bar(result_feature.keys(),result_feature.values())"
   ]
  },
  {
   "cell_type": "code",
   "execution_count": 43,
   "metadata": {},
   "outputs": [
    {
     "name": "stdout",
     "output_type": "stream",
     "text": [
      "accuracy = 0.8747619047619046\n",
      "sensitivity = 0.7\n",
      "Sensitivity = 1.0\n"
     ]
    },
    {
     "data": {
      "image/png": "[encoded data removed]",
      "text/plain": [
       "<Figure size 432x288 with 1 Axes>"
      ]
     },
     "metadata": {
      "needs_background": "light"
     },
     "output_type": "display_data"
    }
   ],
   "source": [
    "result = [] # store the accuray for eeach time pick up the first # number after calucate by chi2\n",
    "final_x = np.copy(aggre_data)  # copy again to not to affect the original one \n",
    "clf=svm.SVC(kernel='rbf',C=1,gamma='auto',probability=True) # classfier call svm\n",
    "\n",
    "\n",
    "for i in range(1,aggre_data.shape[1]):\n",
    "    xx = SelectKBest(chi2, k=i).fit_transform(aggre_data,y)\n",
    "    train_X,test_X,train_y,test_y = train_test_split(xx,y,test_size=0.2,random_state=0)\n",
    "    scores = cross_val_score(clf,train_X,train_y,cv=10,scoring='accuracy')  \n",
    "    \n",
    "    if not result:\n",
    "        result.append(scores.mean())\n",
    "    if scores.mean() > max(result):\n",
    "        final_x = xx\n",
    "    result.append(scores.mean())\n",
    "        \n",
    "train_X,test_X,train_y,test_y = train_test_split(final_x,y,test_size=0.2,random_state=0)\n",
    "clf.fit(train_X,train_y)\n",
    "y_pred = clf.predict(test_X)\n",
    "# calculate(y_pred,test_y)\n",
    "plt.plot(result)\n",
    "print(f\"accuracy = {cross_val_score(clf,train_X,train_y,cv=10,scoring='accuracy').mean()}\")\n",
    "print(f\"sensitivity = {cross_val_score(clf,train_X,train_y,cv=10,scoring='recall').mean()}\")\n",
    "print(f\"Sensitivity = {cross_val_score(clf,train_X,train_y,cv=10,scoring='precision').mean()}\")\n",
    "\n",
    "result_filter = [cross_val_score(clf,train_X,train_y,cv=10,scoring='accuracy').mean(),\n",
    "          cross_val_score(clf,train_X,train_y,cv=10,scoring='recall').mean(),\n",
    "         cross_val_score(clf,train_X,train_y,cv=10,scoring='precision').mean()]"
   ]
  },
  {
   "cell_type": "code",
   "execution_count": 10,
   "metadata": {},
   "outputs": [
    {
     "name": "stdout",
     "output_type": "stream",
     "text": [
      "accuracy = 0.758095238095238\n",
      "sensitivity = 0.6833333333333333\n",
      "Sensitivity = 0.729642857142857\n"
     ]
    },
    {
     "data": {
      "image/png": "[encoded data removed]",
      "text/plain": [
       "<Figure size 432x288 with 1 Axes>"
      ]
     },
     "metadata": {
      "needs_background": "light"
     },
     "output_type": "display_data"
    }
   ],
   "source": [
    "# Difference between filiter and wrapper we chose\n",
    "\n",
    "result = [] # store the accuray for eeach time pick up the first # number after calucate by chi2\n",
    "final_x = X.copy()  # copy again to not to affect the original one \n",
    "clf=svm.SVC(kernel='rbf',C=1,gamma='auto',probability=True) # classfier call svm\n",
    "\n",
    "\n",
    "for i in range(1,X.shape[1]):\n",
    "    xx = SelectKBest(chi2, k=i).fit_transform(X,y)\n",
    "    train_X,test_X,train_y,test_y = train_test_split(xx,y,test_size=0.2,random_state=0)\n",
    "    scores = cross_val_score(clf,train_X,train_y,cv=10,scoring='accuracy')  \n",
    "    \n",
    "    if not result:\n",
    "        result.append(scores.mean())\n",
    "    if scores.mean() > max(result):\n",
    "        final_x = xx\n",
    "    result.append(scores.mean())\n",
    "        \n",
    "train_X,test_X,train_y,test_y = train_test_split(final_x,y,test_size=0.2,random_state=0)\n",
    "clf.fit(train_X,train_y)\n",
    "y_pred = clf.predict(test_X)\n",
    "# calculate(y_pred,test_y)\n",
    "plt.plot(result)\n",
    "print(f\"accuracy = {cross_val_score(clf,train_X,train_y,cv=10,scoring='accuracy').mean()}\")\n",
    "print(f\"sensitivity = {cross_val_score(clf,train_X,train_y,cv=10,scoring='recall').mean()}\")\n",
    "print(f\"Sensitivity = {cross_val_score(clf,train_X,train_y,cv=10,scoring='precision').mean()}\")\n",
    "\n",
    "result_filter = [cross_val_score(clf,train_X,train_y,cv=10,scoring='accuracy').mean(),\n",
    "          cross_val_score(clf,train_X,train_y,cv=10,scoring='recall').mean(),\n",
    "         cross_val_score(clf,train_X,train_y,cv=10,scoring='precision').mean()]"
   ]
  },
  {
   "cell_type": "code",
   "execution_count": 35,
   "metadata": {
    "scrolled": true
   },
   "outputs": [
    {
     "name": "stdout",
     "output_type": "stream",
     "text": [
      "0.7652380952380952\n"
     ]
    }
   ],
   "source": [
    "# Embedding from sklearn: -tsne\n",
    "from sklearn.manifold import TSNE\n",
    "l = np.copy(X)\n",
    "l_num = []\n",
    "clf=svm.SVC(kernel='rbf',C=1,gamma='auto',probability=True) # classfier call svm\n",
    "for i in range(1,9*48+1):\n",
    "    l_x = TSNE(n_components=2,perplexity=i).fit_transform(l)\n",
    "    train_X,test_X,train_y,test_y = train_test_split(l_x,y,test_size=0.2,random_state=0) # separate data to train data and test data\n",
    "    clf.fit(train_X,train_y)\n",
    "    y_pred = clf.predict(test_X)\n",
    "    scores = cross_val_score(clf,train_X,train_y,cv=10,scoring='accuracy')  # Calculate the accuracy by cross vaildation \n",
    "    l_num.append(cross_val_score(clf,train_X,train_y,cv=10,scoring='accuracy').mean())\n",
    "#  Get the average accuracy \n",
    "print(np.max(l_num))"
   ]
  },
  {
   "cell_type": "code",
   "execution_count": 36,
   "metadata": {},
   "outputs": [
    {
     "data": {
      "text/plain": [
       "<matplotlib.legend.Legend at 0x7fc71caa1580>"
      ]
     },
     "execution_count": 36,
     "metadata": {},
     "output_type": "execute_result"
    },
    {
     "data": {
      "image/png": "[encoded data removed]",
      "text/plain": [
       "<Figure size 432x288 with 1 Axes>"
      ]
     },
     "metadata": {
      "needs_background": "light"
     },
     "output_type": "display_data"
    }
   ],
   "source": [
    "# Compare with the accuracy\n",
    "plt.plot(result,label=\"Wrapper\")\n",
    "plt.plot(num,label = \"Filiter\")\n",
    "plt.plot(l_num,label = \"Embedding\")\n",
    "plt.legend(loc=0)"
   ]
  },
  {
   "cell_type": "code",
   "execution_count": 13,
   "metadata": {},
   "outputs": [
    {
     "data": {
      "text/plain": [
       "Text(0, 0.5, 'Accuracy')"
      ]
     },
     "execution_count": 13,
     "metadata": {},
     "output_type": "execute_result"
    },
    {
     "data": {
      "image/png": "[encoded data removed]",
      "text/plain": [
       "<Figure size 432x288 with 1 Axes>"
      ]
     },
     "metadata": {
      "needs_background": "light"
     },
     "output_type": "display_data"
    }
   ],
   "source": [
    "plt.bar([\"Wrapper\",\"Filiter\",\"Embedding\"],[np.max(result),np.max(num),np.max(l_num)])\n",
    "plt.title(\"Best accuracy of each method\")\n",
    "plt.ylabel(\"Accuracy\")"
   ]
  },
  {
   "cell_type": "code",
   "execution_count": 14,
   "metadata": {},
   "outputs": [],
   "source": [
    "\n",
    "# # Do the filiter after wrapper\n",
    "\n",
    "# result = [] # store the accuray for eeach time pick up the first # number after calucate by chi2\n",
    "# final_x = x_copy.copy()  # copy again to not to affect the original one \n",
    "# clf=svm.SVC(kernel='rbf',C=1,gamma='auto',probability=True) # classfier call svm\n",
    "\n",
    "\n",
    "# for i in range(1,x_copy.shape[1]):\n",
    "#     xx = SelectKBest(chi2, k=i).fit_transform(x_copy,y)\n",
    "#     train_X,test_X,train_y,test_y = train_test_split(xx,y,test_size=0.2,random_state=0)\n",
    "#     scores = cross_val_score(clf,train_X,train_y,cv=10,scoring='accuracy')  \n",
    "#     if not result:\n",
    "#         result.append(scores.mean())\n",
    "#     if scores.mean() > max(result):\n",
    "#         final_x = xx\n",
    "#     result.append(scores.mean())\n",
    "        \n",
    "# train_X,test_X,train_y,test_y = train_test_split(final_x,y,test_size=0.2,random_state=0)\n",
    "# clf.fit(train_X,train_y)\n",
    "# y_pred = clf.predict(test_X)\n",
    "# calculate(y_pred,test_y)\n",
    "# plt.plot(result)\n",
    "# plt.xlabel(\"Doing wrapper after wrapper\")\n",
    "# plt.ylabel(\"Accuracy\")\n",
    "\n",
    "# \"\"\"\n",
    "# Become worse \n",
    "# Guess: it dont suit this data by chi2 \n",
    "# \"\"\""
   ]
  },
  {
   "cell_type": "code",
   "execution_count": 15,
   "metadata": {
    "scrolled": true
   },
   "outputs": [],
   "source": [
    "# # Because wrapper plus filter is not in a good result \n",
    "# # Get the model back to the wapper function\n",
    "# # wrapper = [train_X,train_y,test_X,test_y]\n",
    "# clf=svm.SVC(kernel='rbf',C=1,gamma='auto',probability=True) # classfier call svm\n",
    "# clf.fit(wrapper[0],wrapper[1])\n",
    "# y_predict_prob = clf.predict_proba(wrapper[2]) #  show the probablity of the prediction \n",
    "# r = []\n",
    "# m = []\n",
    "# a = []\n",
    "# sp = []\n",
    "# se = []\n",
    "# # Iteraite this for 0.1 to 0.9 add 0.1 each time \n",
    "# for i in range(1,10):\n",
    "#     y_pred_class = binarize(y_predict_prob, threshold=i/10)[:,1] \n",
    "#     x = np.array(calculate(y_pred_class,wrapper[3]))\n",
    "#     r.append(x[0])\n",
    "#     m.append(x[1])\n",
    "#     a.append(x[2])\n",
    "#     sp.append(x[3])\n",
    "#     se.append(x[4])\n",
    "    "
   ]
  },
  {
   "cell_type": "code",
   "execution_count": 16,
   "metadata": {},
   "outputs": [],
   "source": [
    "# print(f\"Best threshold with accuracy(max) is {(np.where(a == max(a))[0][0]+1)/10}\\n\")\n",
    "# print(f\"Best threshold with mse(min) is {(np.where(m == min(m))[0][0]+1)/10}\\n\")\n",
    "\n",
    "# print(\"For Best threshold\")\n",
    "# best = (np.where(a == max(a))[0][0]+1)/10\n",
    "# y_pred_class = binarize(y_predict_prob, threshold=best)[:,1]\n",
    "# calculate(y_pred_class,wrapper[3])"
   ]
  },
  {
   "cell_type": "code",
   "execution_count": 17,
   "metadata": {},
   "outputs": [],
   "source": [
    "# plt.plot(np.arange(0.1,1,0.1),r)\n",
    "# plt.plot((np.where(r == max(r))[0][0]+1)/10,max(r),'ro')\n",
    "# plt.xlabel(\"R2\")\n",
    "# plt.show()\n",
    "\n",
    "# plt.plot(np.arange(0.1,1,0.1),m)\n",
    "# plt.plot((np.where(m == min(m))[0][0]+1)/10,min(m),'ro')\n",
    "# plt.xlabel(\"MSE\")\n",
    "# plt.show()\n",
    "\n",
    "# plt.plot(np.arange(0.1,1,0.1),a)\n",
    "# plt.plot((np.where(a == max(a))[0][0]+1)/10,max(a),'ro')\n",
    "# plt.xlabel(\"ACCUARCY\")\n",
    "# plt.show()\n",
    "\n",
    "# plt.plot(np.arange(0.1,1,0.1),sp)\n",
    "# plt.plot((np.where(sp == max(sp))[0][0]+1)/10,max(sp),'ro')\n",
    "# plt.xlabel(\"Specificity\")\n",
    "# plt.show()\n",
    "\n",
    "# plt.plot(np.arange(0.1,1,0.1),se)\n",
    "# plt.plot((np.where(se == max(se))[0][0]+1)/10,max(se),'ro')\n",
    "# plt.xlabel(\"Sensitivity\")\n",
    "# plt.show()\n",
    "\n",
    "\n"
   ]
  },
  {
   "cell_type": "code",
   "execution_count": null,
   "metadata": {},
   "outputs": [],
   "source": []
  },
  {
   "cell_type": "code",
   "execution_count": null,
   "metadata": {},
   "outputs": [],
   "source": []
  }
 ],
 "metadata": {
  "kernelspec": {
   "display_name": "Python 3",
   "language": "python",
   "name": "python3"
  },
  "language_info": {
   "codemirror_mode": {
    "name": "ipython",
    "version": 3
   },
   "file_extension": ".py",
   "mimetype": "text/x-python",
   "name": "python",
   "nbconvert_exporter": "python",
   "pygments_lexer": "ipython3",
   "version": "3.8.5"
  }
 },
 "nbformat": 4,
 "nbformat_minor": 4
}
