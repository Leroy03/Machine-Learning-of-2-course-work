{
 "cells": [
  {
   "cell_type": "code",
   "execution_count": 27,
   "metadata": {},
   "outputs": [],
   "source": [
    "import csv\n",
    "import numpy as np\n",
    "from matplotlib import pyplot as plt\n",
    "from sklearn.feature_selection import SelectKBest,chi2\n",
    "from sklearn.model_selection import cross_val_score,train_test_split\n",
    "from sklearn import svm\n",
    "from sklearn.metrics import confusion_matrix,precision_score\n",
    "from sklearn.neighbors import KNeighborsClassifier\n",
    "from sklearn.preprocessing import binarize \n",
    "from sklearn.metrics import r2_score, mean_squared_error\n"
   ]
  },
  {
   "cell_type": "code",
   "execution_count": 2,
   "metadata": {},
   "outputs": [],
   "source": [
    "# load data\n",
    "# rows in X are subject major order, i.e. rows 0-9 are all samples from subject 0, rows 10-19 all samples from subject 1, etc.\n",
    "# columns in X are in feature_type major order, i.e. columns 0-47 are alpha band power, eyes closed, electrodes 0-48\n",
    "# feature identifiers for all columns in X are stored in feature_names.csv\n",
    "\n",
    "X = np.loadtxt('data.csv', delimiter=',') \n",
    "y = np.loadtxt('labels.csv', delimiter=',')\n",
    "with open('feature_names.csv') as f:\n",
    "    csvreader = csv.reader(f, delimiter=',')\n",
    "    feature_names = [row for row in csvreader][0]"
   ]
  },
  {
   "cell_type": "code",
   "execution_count": 3,
   "metadata": {},
   "outputs": [],
   "source": [
    "# calculate Accuracy,Specificity,Sensitivity,MSE with confusion matrix\n",
    "def calculate(pred, test):\n",
    "    r2 = r2_score(test, pred) \n",
    "    mse = mean_squared_error(test, pred) \n",
    "    print('R2: ', r2) \n",
    "    print('MSE: ', mse)\n",
    "\n",
    "    tn, fp, fn, tp = confusion_matrix(test, pred).ravel()\n",
    "    print(confusion_matrix(test, pred))\n",
    "    print(f\"Accuracy: { (tp+tn)/(tp+fp+fn+tn)}\")\n",
    "    print(f\"Specificity: {tp / (tp + fp)}\")\n",
    "    print(f\"Sensitivity: {tp/(tp + fn)}\")\n",
    "    return [r2,mse,(tp+tn)/(tp+fp+fn+tn),tn/(tn + fp),tp/(tp + fn)]"
   ]
  },
  {
   "cell_type": "code",
   "execution_count": 22,
   "metadata": {
    "scrolled": true
   },
   "outputs": [
    {
     "name": "stdout",
     "output_type": "stream",
     "text": [
      "accuracy = 0.7666666666666666\n",
      "sensitivity = 0.825\n",
      "Specificity = 0.7073717948717949\n",
      "MSE = -0.2333333333333333\n"
     ]
    }
   ],
   "source": [
    "# Original\n",
    "clf=svm.SVC(kernel='rbf',C=1,gamma='auto',probability=True) # classfier call svm\n",
    "print(f\"accuracy = {cross_val_score(clf,X,y,cv=10,scoring='accuracy').mean()}\")\n",
    "print(f\"sensitivity = {cross_val_score(clf,X,y,cv=10,scoring='recall').mean()}\")\n",
    "print(f\"Specificity = {cross_val_score(clf,X,y,cv=10,scoring='precision').mean()}\")\n",
    "print(f\"MSE = {cross_val_score(clf,X,y,cv=10,scoring='neg_mean_squared_error').mean()}\")\n",
    "\n",
    "\n",
    "\n",
    "sc =  cross_val_score(clf,train_X,train_y,cv=10,scoring='accuracy').mean()    # Highest accuracy  \n"
   ]
  },
  {
   "cell_type": "code",
   "execution_count": 32,
   "metadata": {},
   "outputs": [
    {
     "name": "stdout",
     "output_type": "stream",
     "text": [
      "accuracy = 0.8814285714285713\n",
      "sensitivity = 0.7166666666666667\n",
      "Specificity = 1.0\n",
      "MSE = -0.11857142857142858\n"
     ]
    }
   ],
   "source": [
    "# aggregation \n",
    "agg_feature = np.copy(X)\n",
    "aggre_data = np.array([])\n",
    "for i in range(9):\n",
    "    aggre_data = np.hstack([aggre_data,np.mean(agg_feature[:,i*48:(i+1)*48],axis=1)])\n",
    "aggre_data = aggre_data.reshape(180,9)\n",
    "\n",
    "\n",
    "clf=svm.SVC(kernel='rbf',C=1,gamma='auto',probability=True) # classfier call svm\n",
    "train_X,test_X,train_y,test_y = train_test_split(aggre_data,y,test_size=0.2,random_state=0) # separate data to train data and test data\n",
    "scores = cross_val_score(clf,train_X,train_y,cv=10,scoring='accuracy')  # Calculate the accuracy by cross vaildation \n",
    "print(f\"accuracy = {cross_val_score(clf,train_X,train_y,cv=10,scoring='accuracy').mean()}\")\n",
    "print(f\"sensitivity = {cross_val_score(clf,train_X,train_y,cv=10,scoring='recall').mean()}\")\n",
    "print(f\"Specificity = {cross_val_score(clf,train_X,train_y,cv=10,scoring='precision').mean()}\")\n",
    "print(f\"MSE = {cross_val_score(clf,train_X,train_y,cv=10,scoring='neg_mean_squared_error').mean()}\")\n",
    "\n",
    "\n",
    "\n",
    "\n",
    "# calculate(clf.predict(test_X),test_y)"
   ]
  },
  {
   "cell_type": "code",
   "execution_count": 6,
   "metadata": {},
   "outputs": [
    {
     "name": "stdout",
     "output_type": "stream",
     "text": [
      "accuracy = 0.8890476190476191\n",
      "sensitivity = 0.7333333333333334\n",
      "Specificity = 1.0\n",
      "MSE = -0.11095238095238094\n"
     ]
    },
    {
     "data": {
      "image/png": "[encoded data removed]",
      "text/plain": [
       "<Figure size 432x288 with 1 Axes>"
      ]
     },
     "metadata": {
      "needs_background": "light"
     },
     "output_type": "display_data"
    }
   ],
   "source": [
    "# Aggregation with wrapper function\n",
    "\n",
    "agg_wrapper = [] # the number of the accuracy of the wrapped(one feature each time) X\n",
    "clf=svm.SVC(kernel='rbf',C=1,gamma='auto',probability=True) # classfier call svm\n",
    "points = 0 # control the index \n",
    "agg_x_copy = np.copy(aggre_data) # Donot modified raw data call X\n",
    "agg_sc = np.copy(sc)\n",
    "# Iterate all feature one by one \n",
    "for i in range(9):\n",
    "    f = np.hstack((agg_x_copy[:,:points],agg_x_copy[:,points+1:])) # elimate one feature \n",
    "    train_X,test_X,train_y,test_y = train_test_split(f,y,test_size=0.2,random_state=0) # separate data to train data and test data\n",
    "    scores = cross_val_score(clf,train_X,train_y,cv=10,scoring='accuracy')  # Calculate the accuracy by cross vaildation \n",
    "    agg_wrapper.append(scores.mean())    #  Get the average accuracy \n",
    "    \n",
    "    # Replace the highest accuracy and add the feature name which had been removed from the data\n",
    "    if agg_sc <= scores.mean():\n",
    "        agg_sc = scores.mean()\n",
    "        agg_x_copy = np.delete(agg_x_copy,slice(points,points+1),1)\n",
    "    else:\n",
    "        points += 1\n",
    "plt.title(\"aggregation and wrapper funtion\")\n",
    "plt.plot(agg_wrapper)\n",
    "plt.xlim(0,9)\n",
    "plt.xlabel(\"The feature's number being wrapper out\")\n",
    "clf.fit(train_X,train_y)\n",
    "# print(calculate(clf.predict(test_X),test_y))\n",
    "print(f\"accuracy = {cross_val_score(clf,train_X,train_y,cv=10,scoring='accuracy').mean()}\")\n",
    "print(f\"sensitivity = {cross_val_score(clf,train_X,train_y,cv=10,scoring='recall').mean()}\")\n",
    "print(f\"Specificity = {cross_val_score(clf,train_X,train_y,cv=10,scoring='precision').mean()}\")\n",
    "print(f\"MSE = {cross_val_score(clf,train_X,train_y,cv=10,scoring='neg_mean_squared_error').mean()}\")\n",
    "\n",
    "\n",
    "\n",
    "\n"
   ]
  },
  {
   "cell_type": "code",
   "execution_count": 7,
   "metadata": {},
   "outputs": [],
   "source": [
    "# Wrapper funtion with non-aggregation function\n",
    "\n",
    "wrapper = [] # the number of the accuracy of the wrapped(one feature each time) X\n",
    "clf=svm.SVC(kernel='rbf',C=1,gamma='auto',probability=True) # classfier call svm\n",
    "points = 0 # control the index \n",
    "x_copy = np.copy(X) # Donot modified raw data call X\n",
    "removed = [] # stored the removed feature name \n",
    "\n",
    "# Iterate all feature one by one \n",
    "for i in range(9*48):\n",
    "    f = np.hstack((x_copy[:,:points],x_copy[:,points+1:])) # elimate one feature \n",
    "    train_X,test_X,train_y,test_y = train_test_split(f,y,test_size=0.2,random_state=0) # separate data to train data and test data\n",
    "    scores = cross_val_score(clf,train_X,train_y,cv=10,scoring='accuracy')  # Calculate the accuracy by cross vaildation \n",
    "    wrapper.append(scores.mean())    #  Get the average accuracy \n",
    "    \n",
    "    # Replace the highest accuracy and add the feature name which had been removed from the data\n",
    "    if sc <= scores.mean():\n",
    "        sc = scores.mean()\n",
    "        x_copy = np.delete(x_copy,slice(points,points+1),1)\n",
    "        removed.append(feature_names[i])\n",
    "    else:\n",
    "        points += 1\n",
    "    \n",
    "\n",
    "\n",
    "\n",
    "# plt.plot(k_range,cv_scores)\n",
    "# plt.xlabel('K')\n",
    "# plt.ylabel('Accuracy')\n",
    "# plt.show()\n",
    "# cv_scores = np.array(cv_scores)\n",
    "# best_knn = KNeighborsClassifier(n_neighbors=np.where(cv_scores==max(cv_scores))[0][0]+1)\n",
    "# best_knn.fit(train_X,train_y)\n",
    "# print(best_knn.score(test_X,test_y))\n",
    "# calculate(best_knn.predict(test_X),test_y)\n",
    "\n"
   ]
  },
  {
   "cell_type": "code",
   "execution_count": 8,
   "metadata": {
    "scrolled": false
   },
   "outputs": [
    {
     "name": "stdout",
     "output_type": "stream",
     "text": [
      "accuracy = 0.7523809523809524\n",
      "sensitivity = 0.5833333333333334\n",
      "Specificity = 0.7611904761904762\n",
      "MSE = -0.24761904761904763\n"
     ]
    },
    {
     "data": {
      "image/png": "[encoded data removed]",
      "text/plain": [
       "<Figure size 432x288 with 1 Axes>"
      ]
     },
     "metadata": {
      "needs_background": "light"
     },
     "output_type": "display_data"
    }
   ],
   "source": [
    "# plot the graph to show the prograss of accuracy \n",
    "\n",
    "plt.plot(wrapper)\n",
    "plt.title(\"non-aggregation wrapper function\")\n",
    "plt.xlim(0,9*48)\n",
    "plt.xlabel(\"The feature's number being wrapper out\")\n",
    "clf.fit(train_X,train_y)\n",
    "# print(calculate(clf.predict(test_X),test_y))\n",
    "print(f\"accuracy = {cross_val_score(clf,train_X,train_y,cv=10,scoring='accuracy').mean()}\")\n",
    "print(f\"sensitivity = {cross_val_score(clf,train_X,train_y,cv=10,scoring='recall').mean()}\")\n",
    "print(f\"Specificity = {cross_val_score(clf,train_X,train_y,cv=10,scoring='precision').mean()}\")\n",
    "print(f\"MSE = {cross_val_score(clf,train_X,train_y,cv=10,scoring='neg_mean_squared_error').mean()}\")\n",
    "\n"
   ]
  },
  {
   "cell_type": "code",
   "execution_count": 9,
   "metadata": {
    "scrolled": true
   },
   "outputs": [
    {
     "data": {
      "text/plain": [
       "<BarContainer object of 45 artists>"
      ]
     },
     "execution_count": 9,
     "metadata": {},
     "output_type": "execute_result"
    },
    {
     "data": {
      "image/png": "[encoded data removed]",
      "text/plain": [
       "<Figure size 1080x720 with 1 Axes>"
      ]
     },
     "metadata": {
      "needs_background": "light"
     },
     "output_type": "display_data"
    }
   ],
   "source": [
    "import re\n",
    "from collections import Counter\n",
    "ex_number = []\n",
    "ex_feature = []\n",
    "for i in removed:\n",
    "    ex_number.append(re.search(r'\\d?\\d',i).group())\n",
    "    ex_feature.append(re.search(r'[a-z]+',i).group())\n",
    "    \n",
    "\n",
    "result_num = Counter(ex_number)\n",
    "result_feature = Counter(ex_feature)\n",
    "plt.figure(figsize=(15,10))\n",
    "plt.title(\"The number which has been elimnate from original data\")\n",
    "plt.bar(result_num.keys(),result_num.values())"
   ]
  },
  {
   "cell_type": "code",
   "execution_count": 10,
   "metadata": {},
   "outputs": [
    {
     "data": {
      "text/plain": [
       "<BarContainer object of 3 artists>"
      ]
     },
     "execution_count": 10,
     "metadata": {},
     "output_type": "execute_result"
    },
    {
     "data": {
      "image/png": "[encoded data removed]",
      "text/plain": [
       "<Figure size 432x288 with 1 Axes>"
      ]
     },
     "metadata": {
      "needs_background": "light"
     },
     "output_type": "display_data"
    }
   ],
   "source": [
    "plt.bar(result_feature.keys(),result_feature.values())\n",
    "plt.title(\"Poor performance feature\")"
   ]
  },
  {
   "cell_type": "code",
   "execution_count": 11,
   "metadata": {},
   "outputs": [
    {
     "name": "stdout",
     "output_type": "stream",
     "text": [
      "accuracy = 0.8814285714285713\n",
      "sensitivity = 0.7166666666666667\n",
      "Specificity = 1.0\n",
      "MSE = -0.11857142857142858\n"
     ]
    }
   ],
   "source": [
    "# Aggregation with filter\n",
    "agg_filter = [] # store the accuray for eeach time pick up the first # number after calucate by chi2\n",
    "agg_filter_x = np.copy(aggre_data)  # copy again to not to affect the original one \n",
    "clf=svm.SVC(kernel='rbf',C=1,gamma='auto',probability=True) # classfier call svm\n",
    "\n",
    "for i in range(1,2):\n",
    "    xx = SelectKBest(chi2, k=i).fit_transform(agg_filter_x,y)\n",
    "    train_X,test_X,train_y,test_y = train_test_split(xx,y,test_size=0.2,random_state=0)\n",
    "    scores = cross_val_score(clf,train_X,train_y,cv=10,scoring='accuracy')  \n",
    "    \n",
    "    if not agg_filter:\n",
    "        agg_filter.append(scores.mean())\n",
    "        continue\n",
    "    if scores.mean() > max(agg_filter):\n",
    "        agg_filter_x = xx\n",
    "    agg_filter.append(scores.mean())\n",
    "        \n",
    "train_X,test_X,train_y,test_y = train_test_split(agg_filter_x,y,test_size=0.2,random_state=0)\n",
    "# calculate(y_pred,test_y)\n",
    "print(f\"accuracy = {cross_val_score(clf,train_X,train_y,cv=10,scoring='accuracy').mean()}\")\n",
    "print(f\"sensitivity = {cross_val_score(clf,train_X,train_y,cv=10,scoring='recall').mean()}\")\n",
    "print(f\"Specificity = {cross_val_score(clf,train_X,train_y,cv=10,scoring='precision').mean()}\")\n",
    "print(f\"MSE = {cross_val_score(clf,train_X,train_y,cv=10,scoring='neg_mean_squared_error').mean()}\")\n",
    "\n",
    "\n",
    "\n",
    "\n",
    "\n",
    "agg_result_filter = [cross_val_score(clf,train_X,train_y,cv=10,scoring='accuracy').mean(),\n",
    "          cross_val_score(clf,train_X,train_y,cv=10,scoring='recall').mean(),\n",
    "         cross_val_score(clf,train_X,train_y,cv=10,scoring='precision').mean()]"
   ]
  },
  {
   "cell_type": "code",
   "execution_count": 12,
   "metadata": {},
   "outputs": [
    {
     "name": "stdout",
     "output_type": "stream",
     "text": [
      "accuracy = 0.758095238095238\n",
      "sensitivity = 0.6833333333333333\n",
      "Specificity = 0.729642857142857\n",
      "MSE = -0.2419047619047619\n"
     ]
    }
   ],
   "source": [
    "# non-aggregation filiter  \n",
    "\n",
    "filter_ = [] # store the accuray for eeach time pick up the first # number after calucate by chi2\n",
    "filter_x = np.copy(X)  # copy again to not to affect the original one \n",
    "clf=svm.SVC(kernel='rbf',C=1,gamma='auto',probability=True) # classfier call svm\n",
    "\n",
    "\n",
    "for i in range(1,X.shape[1]):\n",
    "    xx = SelectKBest(chi2, k=i).fit_transform(X,y)\n",
    "    train_X,test_X,train_y,test_y = train_test_split(xx,y,test_size=0.2,random_state=0)\n",
    "    scores = cross_val_score(clf,train_X,train_y,cv=10,scoring='accuracy')  \n",
    "    \n",
    "    if not filter_:\n",
    "        filter_.append(scores.mean())\n",
    "        continue\n",
    "    if scores.mean() > max(filter_):\n",
    "        filter_x = xx\n",
    "    filter_.append(scores.mean())\n",
    "        \n",
    "train_X,test_X,train_y,test_y = train_test_split(filter_x,y,test_size=0.2,random_state=0)\n",
    "# calculate(y_pred,test_y)\n",
    "print(f\"accuracy = {cross_val_score(clf,train_X,train_y,cv=10,scoring='accuracy').mean()}\")\n",
    "print(f\"sensitivity = {cross_val_score(clf,train_X,train_y,cv=10,scoring='recall').mean()}\")\n",
    "print(f\"Specificity = {cross_val_score(clf,train_X,train_y,cv=10,scoring='precision').mean()}\")\n",
    "print(f\"MSE = {cross_val_score(clf,train_X,train_y,cv=10,scoring='neg_mean_squared_error').mean()}\")\n",
    "\n",
    "\n",
    "result_filter = [cross_val_score(clf,train_X,train_y,cv=10,scoring='accuracy').mean(),\n",
    "          cross_val_score(clf,train_X,train_y,cv=10,scoring='recall').mean(),\n",
    "         cross_val_score(clf,train_X,train_y,cv=10,scoring='precision').mean()]"
   ]
  },
  {
   "cell_type": "code",
   "execution_count": 13,
   "metadata": {},
   "outputs": [
    {
     "name": "stdout",
     "output_type": "stream",
     "text": [
      "accuracy = 0.9657142857142856\n",
      "Specificity = 0.95\n",
      "MSE = -0.03428571428571429\n"
     ]
    }
   ],
   "source": [
    "# embedded with aggregation \n",
    "from sklearn.manifold import TSNE\n",
    "agg_embedded = np.copy(aggre_data)\n",
    "agg_embedded_num = [] # store the accuracy\n",
    "agg_embedded_sep = [] # store the specificity\n",
    "agg_embedded_sen = [] # store the sensitivity\n",
    "agg_embedded_mse = [] # store the mse \n",
    "clf=svm.SVC(kernel='rbf',C=1,gamma='auto',probability=True) # classfier call svm\n",
    "for i in range(150):\n",
    "    agg_embedded_x = TSNE(n_components=2,perplexity=i).fit_transform(agg_embedded)\n",
    "    train_X,test_X,train_y,test_y = train_test_split(agg_embedded_x,y,test_size=0.2,random_state=0) # separate data to train data and test data\n",
    "    clf.fit(train_X,train_y)\n",
    "    y_pred = clf.predict(test_X)\n",
    "    scores = cross_val_score(clf,train_X,train_y,cv=10,scoring='accuracy')  # Calculate the accuracy by cross vaildation \n",
    "    agg_embedded_num.append(cross_val_score(clf,train_X,train_y,cv=10,scoring='accuracy').mean()) #  Get the average accuracy\n",
    "    agg_embedded_sen.append(cross_val_score(clf,train_X,train_y,cv=10,scoring='recall').mean())\n",
    "    agg_embedded_mse.append(cross_val_score(clf,train_X,train_y,cv=10,scoring='neg_mean_squared_error').mean())\n",
    "# highest accuracy sensitiviy s\n",
    "\n",
    "print(f\"accuracy = {np.max(agg_embedded_num)}\")\n",
    "print(f\"Specificity = {np.max(agg_embedded_sen)}\")\n",
    "print(f\"MSE = {np.max(agg_embedded_mse)}\")\n",
    "\n",
    "\n"
   ]
  },
  {
   "cell_type": "code",
   "execution_count": 14,
   "metadata": {
    "scrolled": true
   },
   "outputs": [
    {
     "name": "stdout",
     "output_type": "stream",
     "text": [
      "accuracy = 0.7852380952380952\n",
      "sensitivity = 0.6666666666666667\n",
      "MSE = -0.21476190476190476\n"
     ]
    }
   ],
   "source": [
    "# Embedding from sklearn: -tsne\n",
    "# non-aggregation\n",
    "from sklearn.manifold import TSNE\n",
    "embedded = np.copy(X)\n",
    "embedded_num = []\n",
    "embedded_sen = []\n",
    "embedded_mse = []\n",
    "\n",
    "clf=svm.SVC(kernel='rbf',C=1,gamma='auto',probability=True) # classfier call svm\n",
    "for i in range(150):\n",
    "    embedded_x = TSNE(n_components=2,perplexity=i).fit_transform(embedded)\n",
    "    train_X,test_X,train_y,test_y = train_test_split(embedded_x,y,test_size=0.2,random_state=0) # separate data to train data and test data\n",
    "    # Calculate the number by cross vaildation \n",
    "    embedded_num.append(cross_val_score(clf,train_X,train_y,cv=10,scoring='accuracy').mean()) #  Get the average accuracy\n",
    "    embedded_sen.append(cross_val_score(clf,train_X,train_y,cv=10,scoring='recall').mean())\n",
    "    embedded_mse.append(cross_val_score(clf,train_X,train_y,cv=10,scoring='neg_mean_squared_error').mean())\n",
    "\n",
    "#  Get the highest accuracy \n",
    "print(f\"accuracy = {np.max(embedded_num)}\")\n",
    "print(f\"sensitivity = {np.max(embedded_sen)}\")\n",
    "print(f\"MSE = {np.max(embedded_mse)}\")"
   ]
  },
  {
   "cell_type": "code",
   "execution_count": 15,
   "metadata": {},
   "outputs": [
    {
     "data": {
      "text/plain": [
       "<matplotlib.legend.Legend at 0x7fb1c11fb940>"
      ]
     },
     "execution_count": 15,
     "metadata": {},
     "output_type": "execute_result"
    },
    {
     "data": {
      "image/png": "[encoded data removed]",
      "text/plain": [
       "<Figure size 432x288 with 1 Axes>"
      ]
     },
     "metadata": {
      "needs_background": "light"
     },
     "output_type": "display_data"
    }
   ],
   "source": [
    "# Compare with the accuracy\n",
    "plt.title(\"Non aggrregation\")\n",
    "plt.plot(wrapper,label=\"Wrapper\")\n",
    "plt.plot(filter_,label = \"Filiter\")\n",
    "plt.plot(embedded_num,label = \"Embedding\")\n",
    "plt.legend(loc=0)"
   ]
  },
  {
   "cell_type": "code",
   "execution_count": 16,
   "metadata": {},
   "outputs": [
    {
     "data": {
      "text/plain": [
       "<matplotlib.legend.Legend at 0x7fb1c1369310>"
      ]
     },
     "execution_count": 16,
     "metadata": {},
     "output_type": "execute_result"
    },
    {
     "data": {
      "image/png": "[encoded data removed]",
      "text/plain": [
       "<Figure size 432x288 with 1 Axes>"
      ]
     },
     "metadata": {
      "needs_background": "light"
     },
     "output_type": "display_data"
    }
   ],
   "source": [
    "# Compare with the accuracy\n",
    "plt.title(\"Aggrregation\")\n",
    "plt.plot(agg_wrapper,label=\"Wrapper\")\n",
    "plt.plot(agg_filter,label = \"Filiter\")\n",
    "plt.plot(agg_embedded_num,label = \"Embedding\")\n",
    "plt.legend(loc=0)"
   ]
  },
  {
   "cell_type": "code",
   "execution_count": 17,
   "metadata": {},
   "outputs": [],
   "source": [
    "# plt.bar([\"Wrapper\",\"Filiter\",\"Embedding\"],[np.max(result),np.max(num),np.max(l_num)])\n",
    "# plt.title(\"Best accuracy of each method\")\n",
    "# plt.ylabel(\"Accuracy\")"
   ]
  },
  {
   "cell_type": "code",
   "execution_count": 18,
   "metadata": {},
   "outputs": [],
   "source": [
    "\n",
    "# # Do the filiter after wrapper\n",
    "\n",
    "# result = [] # store the accuray for eeach time pick up the first # number after calucate by chi2\n",
    "# final_x = x_copy.copy()  # copy again to not to affect the original one \n",
    "# clf=svm.SVC(kernel='rbf',C=1,gamma='auto',probability=True) # classfier call svm\n",
    "\n",
    "\n",
    "# for i in range(1,x_copy.shape[1]):\n",
    "#     xx = SelectKBest(chi2, k=i).fit_transform(x_copy,y)\n",
    "#     train_X,test_X,train_y,test_y = train_test_split(xx,y,test_size=0.2,random_state=0)\n",
    "#     scores = cross_val_score(clf,train_X,train_y,cv=10,scoring='accuracy')  \n",
    "#     if not result:\n",
    "#         result.append(scores.mean())\n",
    "#     if scores.mean() > max(result):\n",
    "#         final_x = xx\n",
    "#     result.append(scores.mean())\n",
    "        \n",
    "# train_X,test_X,train_y,test_y = train_test_split(final_x,y,test_size=0.2,random_state=0)\n",
    "# clf.fit(train_X,train_y)\n",
    "# y_pred = clf.predict(test_X)\n",
    "# calculate(y_pred,test_y)\n",
    "# plt.plot(result)\n",
    "# plt.xlabel(\"Doing wrapper after wrapper\")\n",
    "# plt.ylabel(\"Accuracy\")\n",
    "\n",
    "# \"\"\"\n",
    "# Become worse \n",
    "# Guess: it dont suit this data by chi2 \n",
    "# \"\"\""
   ]
  },
  {
   "cell_type": "code",
   "execution_count": 19,
   "metadata": {
    "scrolled": true
   },
   "outputs": [],
   "source": [
    "# # Because wrapper plus filter is not in a good result \n",
    "# # Get the model back to the wapper function\n",
    "# # wrapper = [train_X,train_y,test_X,test_y]\n",
    "# clf=svm.SVC(kernel='rbf',C=1,gamma='auto',probability=True) # classfier call svm\n",
    "# clf.fit(wrapper[0],wrapper[1])\n",
    "# y_predict_prob = clf.predict_proba(wrapper[2]) #  show the probablity of the prediction \n",
    "# r = []\n",
    "# m = []\n",
    "# a = []\n",
    "# sp = []\n",
    "# se = []\n",
    "# # Iteraite this for 0.1 to 0.9 add 0.1 each time \n",
    "# for i in range(1,10):\n",
    "#     y_pred_class = binarize(y_predict_prob, threshold=i/10)[:,1] \n",
    "#     x = np.array(calculate(y_pred_class,wrapper[3]))\n",
    "#     r.append(x[0])\n",
    "#     m.append(x[1])\n",
    "#     a.append(x[2])\n",
    "#     sp.append(x[3])\n",
    "#     se.append(x[4])\n",
    "    "
   ]
  },
  {
   "cell_type": "code",
   "execution_count": 20,
   "metadata": {},
   "outputs": [],
   "source": [
    "# print(f\"Best threshold with accuracy(max) is {(np.where(a == max(a))[0][0]+1)/10}\\n\")\n",
    "# print(f\"Best threshold with mse(min) is {(np.where(m == min(m))[0][0]+1)/10}\\n\")\n",
    "\n",
    "# print(\"For Best threshold\")\n",
    "# best = (np.where(a == max(a))[0][0]+1)/10\n",
    "# y_pred_class = binarize(y_predict_prob, threshold=best)[:,1]\n",
    "# calculate(y_pred_class,wrapper[3])"
   ]
  },
  {
   "cell_type": "code",
   "execution_count": 21,
   "metadata": {},
   "outputs": [],
   "source": [
    "# plt.plot(np.arange(0.1,1,0.1),r)\n",
    "# plt.plot((np.where(r == max(r))[0][0]+1)/10,max(r),'ro')\n",
    "# plt.xlabel(\"R2\")\n",
    "# plt.show()\n",
    "\n",
    "# plt.plot(np.arange(0.1,1,0.1),m)\n",
    "# plt.plot((np.where(m == min(m))[0][0]+1)/10,min(m),'ro')\n",
    "# plt.xlabel(\"MSE\")\n",
    "# plt.show()\n",
    "\n",
    "# plt.plot(np.arange(0.1,1,0.1),a)\n",
    "# plt.plot((np.where(a == max(a))[0][0]+1)/10,max(a),'ro')\n",
    "# plt.xlabel(\"ACCUARCY\")\n",
    "# plt.show()\n",
    "\n",
    "# plt.plot(np.arange(0.1,1,0.1),sp)\n",
    "# plt.plot((np.where(sp == max(sp))[0][0]+1)/10,max(sp),'ro')\n",
    "# plt.xlabel(\"Specificity\")\n",
    "# plt.show()\n",
    "\n",
    "# plt.plot(np.arange(0.1,1,0.1),se)\n",
    "# plt.plot((np.where(se == max(se))[0][0]+1)/10,max(se),'ro')\n",
    "# plt.xlabel(\"Sensitivity\")\n",
    "# plt.show()\n",
    "\n",
    "\n"
   ]
  },
  {
   "cell_type": "code",
   "execution_count": null,
   "metadata": {},
   "outputs": [],
   "source": []
  },
  {
   "cell_type": "code",
   "execution_count": null,
   "metadata": {},
   "outputs": [],
   "source": []
  }
 ],
 "metadata": {
  "kernelspec": {
   "display_name": "Python 3",
   "language": "python",
   "name": "python3"
  },
  "language_info": {
   "codemirror_mode": {
    "name": "ipython",
    "version": 3
   },
   "file_extension": ".py",
   "mimetype": "text/x-python",
   "name": "python",
   "nbconvert_exporter": "python",
   "pygments_lexer": "ipython3",
   "version": "3.8.5"
  }
 },
 "nbformat": 4,
 "nbformat_minor": 4
}
